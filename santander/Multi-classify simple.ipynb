{
 "cells": [
  {
   "cell_type": "code",
   "execution_count": 1,
   "metadata": {
    "collapsed": false
   },
   "outputs": [
    {
     "name": "stdout",
     "output_type": "stream",
     "text": [
      "18:32:54\n",
      "(3008, 371)\n",
      "(73012, 371)\n",
      "3008\n",
      "73012\n",
      "(2406, 371)\n",
      "(58409, 371)\n",
      "one train.shape= (60815, 371)\n",
      "(15203, 371)\n",
      "18:32:57\n",
      "one train.shape= (60815, 369)\n",
      "datasets ready\n"
     ]
    }
   ],
   "source": [
    "import pandas as pd\n",
    "import numpy as np\n",
    "from time import gmtime, strftime\n",
    "\n",
    "import tensorflow as tf\n",
    "import tensorflow.contrib.learn as skflow\n",
    "\n",
    "from sklearn import datasets, cross_validation, metrics, preprocessing\n",
    "\n",
    "print(strftime(\"%H:%M:%S\", gmtime()))\n",
    "\n",
    "############################ Danny split\n",
    "\n",
    "data = pd.read_csv('train.csv')\n",
    "\n",
    "# print(df.shape[0]) # rows\n",
    "# print(df.shape) # rows, columns\n",
    "# (76020, 371)\n",
    "\n",
    "\n",
    "data_true = data[data['TARGET'] == 1]\n",
    "data_false = data[data['TARGET'] != 1]\n",
    "\n",
    "print(data_true.shape)\n",
    "print(data_false.shape)\n",
    "\n",
    "l_true = data_true.shape[0]\n",
    "l_false = data_false.shape[0]\n",
    "\n",
    "print(l_true)\n",
    "print(l_false)\n",
    "\n",
    "train_true = data_true[0:int(.8 * l_true)]\n",
    "train_false = data_false[0:int(.8 * l_false)]\n",
    "\n",
    "test_true = data_true[int(.8 * l_true+1):l_true]\n",
    "test_false = data_false[int(.8 * l_false+1):l_false]\n",
    "\n",
    "print(train_true.shape)\n",
    "print(train_false.shape)\n",
    "\n",
    "train = pd.concat([train_true, train_false])\n",
    "test = pd.concat([test_true, test_false])\n",
    "\n",
    "print(\"one train.shape=\",train.shape)\n",
    "print(test.shape)\n",
    "\n",
    "train_id = train.pop('ID')\n",
    "test_id = test.pop('ID')\n",
    "\n",
    "train_target = train.pop('TARGET')\n",
    "test_target = test.pop('TARGET')\n",
    "\n",
    "print(strftime(\"%H:%M:%S\", gmtime()))\n",
    "\n",
    "train = train.values ###########\n",
    "print(\"one train.shape=\",train.shape)\n",
    "\n",
    "\n",
    "# Scale data (training set) to 0 mean and unit standard deviation.\n",
    "scaler = preprocessing.StandardScaler()\n",
    "train = scaler.fit_transform(train)\n",
    "\n",
    "#train.apply(lambda x: (x - np.mean(x)) / (np.max(x) - np.min(x)))\n",
    "\n",
    "#train = train.as_matrix()\n",
    "#train_target = train_target.as_matrix()\n",
    "\n",
    "# train = train.values\n",
    "train_target = train_target.values\n",
    "\n",
    "print(\"datasets ready\")"
   ]
  },
  {
   "cell_type": "code",
   "execution_count": 23,
   "metadata": {
    "collapsed": false
   },
   "outputs": [
    {
     "name": "stdout",
     "output_type": "stream",
     "text": [
      "Nearest Neighbors\n",
      "ROC =  0.5\n",
      "Linear SVM\n",
      "ROC =  0.494130678883\n",
      "RBF SVM\n",
      "ROC =  0.5\n",
      "Decision Tree\n",
      "ROC =  0.492136787042\n",
      "Random Forest\n",
      "ROC =  0.5\n",
      "AdaBoost\n",
      "ROC =  0.5\n",
      "Naive Bayes\n",
      "ROC =  0.499828790577\n",
      "Linear Discriminant Analysis\n"
     ]
    },
    {
     "name": "stderr",
     "output_type": "stream",
     "text": [
      "/home/danny/.local/lib/python3.5/site-packages/sklearn/discriminant_analysis.py:387: UserWarning: Variables are collinear.\n",
      "  warnings.warn(\"Variables are collinear.\")\n"
     ]
    },
    {
     "name": "stdout",
     "output_type": "stream",
     "text": [
      "ROC =  0.498479398236\n",
      "Quadratic Discriminant Analysis\n"
     ]
    },
    {
     "name": "stderr",
     "output_type": "stream",
     "text": [
      "/home/danny/.local/lib/python3.5/site-packages/sklearn/discriminant_analysis.py:688: UserWarning: Variables are collinear\n",
      "  warnings.warn(\"Variables are collinear\")\n"
     ]
    },
    {
     "name": "stdout",
     "output_type": "stream",
     "text": [
      "ROC =  0.547613084251\n"
     ]
    }
   ],
   "source": [
    "import numpy as np\n",
    "import matplotlib.pyplot as plt\n",
    "from matplotlib.colors import ListedColormap\n",
    "from sklearn.cross_validation import train_test_split\n",
    "from sklearn.preprocessing import StandardScaler\n",
    "from sklearn.datasets import make_moons, make_circles, make_classification\n",
    "from sklearn.neighbors import KNeighborsClassifier\n",
    "from sklearn.svm import SVC\n",
    "from sklearn.tree import DecisionTreeClassifier\n",
    "from sklearn.ensemble import RandomForestClassifier, AdaBoostClassifier\n",
    "from sklearn.naive_bayes import GaussianNB\n",
    "from sklearn.discriminant_analysis import LinearDiscriminantAnalysis\n",
    "from sklearn.discriminant_analysis import QuadraticDiscriminantAnalysis\n",
    "\n",
    "h = .02  # step size in the mesh\n",
    "\n",
    "names = [\"Nearest Neighbors\", \"Linear SVM\", \"RBF SVM\", \"Decision Tree\",\n",
    "         \"Random Forest\", \"AdaBoost\", \"Naive Bayes\", \"Linear Discriminant Analysis\",\n",
    "         \"Quadratic Discriminant Analysis\"]\n",
    "classifiers = [\n",
    "    KNeighborsClassifier(3),\n",
    "    SVC(kernel=\"linear\", C=0.025),\n",
    "    SVC(gamma=2, C=1),\n",
    "    DecisionTreeClassifier(max_depth=20),\n",
    "    RandomForestClassifier(max_depth=5, n_estimators=10, max_features=1),\n",
    "    AdaBoostClassifier(),\n",
    "    GaussianNB(),\n",
    "    LinearDiscriminantAnalysis(),\n",
    "    QuadraticDiscriminantAnalysis()]\n",
    "\n",
    "# X, y = make_classification(n_features=2, n_redundant=0, n_informative=2,\n",
    "#                            random_state=1, n_clusters_per_class=1)\n",
    "\n",
    "# rng = np.random.RandomState(2)\n",
    "# X += 2 * rng.uniform(size=X.shape)\n",
    "# linearly_separable = (X, y)\n",
    "\n",
    "# datasets = [make_moons(noise=0.3, random_state=0),\n",
    "#             make_circles(noise=0.2, factor=0.5, random_state=1),\n",
    "#             linearly_separable\n",
    "#             ]\n",
    "\n",
    "# X, y = train, train_target\n",
    "\n",
    "# just plot the dataset first\n",
    "from sklearn.metrics import roc_auc_score\n",
    "# iterate over classifiers\n",
    "for name, clf in zip(names, classifiers):\n",
    "    print(name)\n",
    "    clf.fit(train, train_target)\n",
    "    result = clf.predict(test)\n",
    "    print(\"ROC = \",roc_auc_score(test_target, result))\n",
    "\n"
   ]
  },
  {
   "cell_type": "raw",
   "metadata": {
    "collapsed": true
   },
   "source": [
    "RBF is very slow\n",
    "\n",
    "Nearest Neighbors\n",
    "ROC =  0.5\n",
    "Linear SVM\n",
    "ROC =  0.494130678883\n",
    "RBF SVM\n",
    "ROC =  0.5\n",
    "Decision Tree\n",
    "ROC =  0.5\n",
    "Random Forest\n",
    "ROC =  0.5\n",
    "AdaBoost\n",
    "ROC =  0.5\n",
    "Naive Bayes\n",
    "ROC =  0.499828790577\n",
    "Linear Discriminant Analysis\n",
    "/home/danny/.local/lib/python3.5/site-packages/sklearn/discriminant_analysis.py:387: UserWarning: Variables are collinear.\n",
    "  warnings.warn(\"Variables are collinear.\")\n",
    "ROC =  0.498479398236\n",
    "Quadratic Discriminant Analysis\n",
    "/home/danny/.local/lib/python3.5/site-packages/sklearn/discriminant_analysis.py:688: UserWarning: Variables are collinear\n",
    "  warnings.warn(\"Variables are collinear\")\n",
    "ROC =  0.547613084251\n",
    "\n",
    "\n"
   ]
  }
 ],
 "metadata": {
  "kernelspec": {
   "display_name": "Python 3",
   "language": "python",
   "name": "python3"
  },
  "language_info": {
   "codemirror_mode": {
    "name": "ipython",
    "version": 3
   },
   "file_extension": ".py",
   "mimetype": "text/x-python",
   "name": "python",
   "nbconvert_exporter": "python",
   "pygments_lexer": "ipython3",
   "version": "3.5.1"
  }
 },
 "nbformat": 4,
 "nbformat_minor": 0
}
