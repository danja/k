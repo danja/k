{
 "cells": [
  {
   "cell_type": "code",
   "execution_count": 15,
   "metadata": {
    "collapsed": false
   },
   "outputs": [
    {
     "name": "stdout",
     "output_type": "stream",
     "text": [
      "17:51:17\n",
      "data loaded\n"
     ]
    }
   ],
   "source": [
    "import pandas as pd\n",
    "import numpy as np\n",
    "from time import gmtime, strftime\n",
    "\n",
    "import tensorflow as tf\n",
    "import tensorflow.contrib.learn as skflow\n",
    "from sklearn.cross_validation import train_test_split\n",
    "\n",
    "from sklearn import datasets, cross_validation, metrics, preprocessing\n",
    "from sklearn.preprocessing import StandardScaler\n",
    "\n",
    "print(strftime(\"%H:%M:%S\", gmtime()))\n",
    "\n",
    "data = pd.read_csv('train.csv')\n",
    "\n",
    "data_id = data.pop('ID')\n",
    "data_target = data.pop('TARGET')\n",
    "\n",
    "X, y = data, data_target\n",
    "X = StandardScaler().fit_transform(X)\n",
    "\n",
    "# X_train, X_test, y_train, y_test = train_test_split(X, y, test_size=.4)\n",
    "\n",
    "print(\"data loaded\")\n",
    "\n",
    "# adabas supports DecisionTreeClassifier or SGDClassifier\n",
    "\n",
    "print(data.shape)\n",
    "print(data_target.shape)"
   ]
  },
  {
   "cell_type": "code",
   "execution_count": 17,
   "metadata": {
    "collapsed": false
   },
   "outputs": [
    {
     "name": "stderr",
     "output_type": "stream",
     "text": [
      "/home/danny/.local/lib/python3.5/site-packages/sklearn/discriminant_analysis.py:688: UserWarning: Variables are collinear\n",
      "  warnings.warn(\"Variables are collinear\")\n"
     ]
    }
   ],
   "source": [
    "from sklearn.discriminant_analysis import QuadraticDiscriminantAnalysis\n",
    "\n",
    "classifier = QuadraticDiscriminantAnalysis()\n",
    "\n",
    "classifier.fit(X,y)\n",
    "# classifier.fit(X_train, y_train)\n",
    "\n",
    "result = classifier.predict(X)\n",
    "# result = classifier.predict(X_test)\n",
    "\n",
    "from sklearn.metrics import roc_auc_score\n",
    "\n",
    "# print(\"ROC = \",roc_auc_score(result, y_test))\n",
    "\n",
    "\n"
   ]
  },
  {
   "cell_type": "code",
   "execution_count": 18,
   "metadata": {
    "collapsed": false
   },
   "outputs": [
    {
     "name": "stdout",
     "output_type": "stream",
     "text": [
      "(76020,)\n",
      "(76020, 369)\n"
     ]
    }
   ],
   "source": [
    "print(result.shape)\n",
    "print(data.shape)\n",
    "\n",
    "X, y = data, data_target\n",
    "\n",
    "X['Q'] = result\n",
    "\n",
    "print(data.shape)\n",
    "\n",
    "X = StandardScaler().fit_transform(X)\n",
    "X_train, X_test, y_train, y_test = train_test_split(X, y, test_size=.4)"
   ]
  },
  {
   "cell_type": "code",
   "execution_count": null,
   "metadata": {
    "collapsed": false
   },
   "outputs": [
    {
     "name": "stdout",
     "output_type": "stream",
     "text": [
      "dnn1\n",
      "Step #100, epoch #1, avg. train loss: 0.48382\n",
      "Step #200, epoch #2, avg. train loss: 0.10627\n",
      "Step #300, epoch #3, avg. train loss: 0.05151\n",
      "Step #400, epoch #4, avg. train loss: 0.03972\n",
      "Step #500, epoch #5, avg. train loss: 0.03694\n",
      "Step #600, epoch #6, avg. train loss: 0.03713\n",
      "Step #700, epoch #7, avg. train loss: 0.03726\n",
      "Step #800, epoch #8, avg. train loss: 0.03651\n",
      "Step #900, epoch #10, avg. train loss: 0.03714\n",
      "Step #1000, epoch #11, avg. train loss: 0.03683\n",
      "Step #1100, epoch #12, avg. train loss: 0.03656\n",
      "Step #1200, epoch #13, avg. train loss: 0.03645\n",
      "Step #1300, epoch #14, avg. train loss: 0.03652\n",
      "Step #1400, epoch #15, avg. train loss: 0.03656\n",
      "Step #1500, epoch #16, avg. train loss: 0.03590\n",
      "Step #1600, epoch #17, avg. train loss: 0.03673\n",
      "Step #1700, epoch #18, avg. train loss: 0.03724\n",
      "Step #1800, epoch #20, avg. train loss: 0.03618\n",
      "Step #1900, epoch #21, avg. train loss: 0.03640\n",
      "Step #2000, epoch #22, avg. train loss: 0.03702\n",
      "Step #2100, epoch #23, avg. train loss: 0.03637\n",
      "Step #2200, epoch #24, avg. train loss: 0.03648\n",
      "Step #2300, epoch #25, avg. train loss: 0.03675\n",
      "Step #2400, epoch #26, avg. train loss: 0.03701\n",
      "Step #2500, epoch #27, avg. train loss: 0.03702\n",
      "Step #2600, epoch #28, avg. train loss: 0.03662\n",
      "Step #2700, epoch #30, avg. train loss: 0.03636\n",
      "Step #2800, epoch #31, avg. train loss: 0.03635\n",
      "Step #2900, epoch #32, avg. train loss: 0.03637\n",
      "Step #3000, epoch #33, avg. train loss: 0.03691\n",
      "Step #3100, epoch #34, avg. train loss: 0.03696\n",
      "Step #3200, epoch #35, avg. train loss: 0.03657\n",
      "Step #3300, epoch #36, avg. train loss: 0.03660\n",
      "Step #3400, epoch #37, avg. train loss: 0.03680\n",
      "Step #3500, epoch #38, avg. train loss: 0.03715\n",
      "Step #3600, epoch #40, avg. train loss: 0.03711\n",
      "Step #3700, epoch #41, avg. train loss: 0.03684\n",
      "Step #3800, epoch #42, avg. train loss: 0.03700\n",
      "Step #3900, epoch #43, avg. train loss: 0.03611\n",
      "Step #4000, epoch #44, avg. train loss: 0.03665\n",
      "Step #4100, epoch #45, avg. train loss: 0.03698\n",
      "Step #4200, epoch #46, avg. train loss: 0.03740\n",
      "Step #4300, epoch #47, avg. train loss: 0.03632\n",
      "Step #4400, epoch #48, avg. train loss: 0.03735\n",
      "Step #4500, epoch #50, avg. train loss: 0.03617\n",
      "Step #4600, epoch #51, avg. train loss: 0.03702\n",
      "Step #4700, epoch #52, avg. train loss: 0.03599\n",
      "Step #4800, epoch #53, avg. train loss: 0.03707\n",
      "Step #4900, epoch #54, avg. train loss: 0.03737\n",
      "Step #5000, epoch #55, avg. train loss: 0.03671\n",
      "Step #5100, epoch #56, avg. train loss: 0.03636\n",
      "Step #5200, epoch #57, avg. train loss: 0.03713\n",
      "Step #5300, epoch #58, avg. train loss: 0.03605\n",
      "Step #5400, epoch #60, avg. train loss: 0.03671\n",
      "Step #5500, epoch #61, avg. train loss: 0.03664\n",
      "Step #5600, epoch #62, avg. train loss: 0.03677\n",
      "Step #5700, epoch #63, avg. train loss: 0.03705\n",
      "Step #5800, epoch #64, avg. train loss: 0.03673\n",
      "Step #5900, epoch #65, avg. train loss: 0.03636\n",
      "Step #6000, epoch #66, avg. train loss: 0.03708\n",
      "Step #6100, epoch #67, avg. train loss: 0.03742\n",
      "Step #6200, epoch #68, avg. train loss: 0.03650\n",
      "Step #6300, epoch #70, avg. train loss: 0.03664\n",
      "Step #6400, epoch #71, avg. train loss: 0.03700\n",
      "Step #6500, epoch #72, avg. train loss: 0.03695\n",
      "Step #6600, epoch #73, avg. train loss: 0.03680\n",
      "Step #6700, epoch #74, avg. train loss: 0.03764\n",
      "Step #6800, epoch #75, avg. train loss: 0.03666\n",
      "Step #6900, epoch #76, avg. train loss: 0.03722\n",
      "Step #7000, epoch #77, avg. train loss: 0.03657\n",
      "Step #7100, epoch #78, avg. train loss: 0.03701\n",
      "Step #7200, epoch #80, avg. train loss: 0.03796\n",
      "Step #7300, epoch #81, avg. train loss: 0.03666\n",
      "Step #7400, epoch #82, avg. train loss: 0.03740\n",
      "Step #7500, epoch #83, avg. train loss: 0.03624\n",
      "Step #7600, epoch #84, avg. train loss: 0.03755\n",
      "Step #7700, epoch #85, avg. train loss: 0.03765\n",
      "Step #7800, epoch #86, avg. train loss: 0.03690\n",
      "Step #7900, epoch #87, avg. train loss: 0.03670\n",
      "Step #8000, epoch #88, avg. train loss: 0.03694\n",
      "Step #8100, epoch #90, avg. train loss: 0.03678\n",
      "Step #8200, epoch #91, avg. train loss: 0.03717\n",
      "Step #8300, epoch #92, avg. train loss: 0.03678\n",
      "Step #8400, epoch #93, avg. train loss: 0.03698\n",
      "Step #8500, epoch #94, avg. train loss: 0.03750\n",
      "Step #8600, epoch #95, avg. train loss: 0.03776\n",
      "Step #8700, epoch #96, avg. train loss: 0.03569\n",
      "Step #8800, epoch #97, avg. train loss: 0.03754\n",
      "Step #8900, epoch #98, avg. train loss: 0.03750\n",
      "Step #9000, epoch #100, avg. train loss: 0.03655\n",
      "Step #9100, epoch #101, avg. train loss: 0.03630\n",
      "Step #9200, epoch #102, avg. train loss: 0.03737\n",
      "Step #9300, epoch #103, avg. train loss: 0.03645\n",
      "Step #9400, epoch #104, avg. train loss: 0.03803\n",
      "Step #9500, epoch #105, avg. train loss: 0.03633\n",
      "Step #9600, epoch #106, avg. train loss: 0.03720\n",
      "Step #9700, epoch #107, avg. train loss: 0.03767\n",
      "Step #9800, epoch #108, avg. train loss: 0.03682\n",
      "Step #9900, epoch #110, avg. train loss: 0.03789\n",
      "Step #10000, epoch #111, avg. train loss: 0.03744\n",
      "Step #10100, epoch #112, avg. train loss: 0.03762\n",
      "Step #10200, epoch #113, avg. train loss: 0.03743\n"
     ]
    }
   ],
   "source": [
    "names = [\"dnn1\",\n",
    "        \"dnn2\",\n",
    "        \"dnn3\"]\n",
    "\n",
    "dnn1 = skflow.TensorFlowDNNRegressor(\n",
    "        hidden_units=[10, 100, 10], # [1000, 500, 100, 10]\n",
    "        n_classes=2,\n",
    "        batch_size=512,\n",
    "        optimizer=\"Adam\",\n",
    "        steps=100000,\n",
    "        dropout=0.5,\n",
    "        learning_rate=0.01,\n",
    "        continue_training=False)\n",
    "\n",
    "dnn2 = skflow.TensorFlowDNNRegressor(\n",
    "        hidden_units=[10, 10, 10, 10, 10], # [1000, 500, 100, 10]\n",
    "        n_classes=2,\n",
    "        batch_size=512,\n",
    "        optimizer=\"Adam\",\n",
    "        steps=100000,\n",
    "        dropout=0.5,\n",
    "        learning_rate=0.01,\n",
    "        continue_training=False)\n",
    "\n",
    "dnn3 = skflow.TensorFlowDNNRegressor(\n",
    "        hidden_units=[500, 100, 10, 10, 10], # [1000, 500, 100, 10]\n",
    "        n_classes=2,\n",
    "        batch_size=512,\n",
    "        optimizer=\"Adam\",\n",
    "        steps=100000,\n",
    "        dropout=0.5,\n",
    "        learning_rate=0.01,\n",
    "        continue_training=False)\n",
    "\n",
    "classifiers = [\n",
    "    dnn1,\n",
    "    dnn2,\n",
    "    dnn3\n",
    "    ]\n",
    "\n",
    "from sklearn.metrics import roc_auc_score\n",
    "# iterate over classifiers\n",
    "for name, clf in zip(names, classifiers):\n",
    "    print(name)\n",
    "    clf.fit(X_train, y_train)\n",
    "    result = clf.predict(X_test)\n",
    "    print(\"ROC = \",roc_auc_score(y_test, result))"
   ]
  },
  {
   "cell_type": "code",
   "execution_count": null,
   "metadata": {
    "collapsed": true
   },
   "outputs": [],
   "source": []
  }
 ],
 "metadata": {
  "kernelspec": {
   "display_name": "Python 3",
   "language": "python",
   "name": "python3"
  },
  "language_info": {
   "codemirror_mode": {
    "name": "ipython",
    "version": 3
   },
   "file_extension": ".py",
   "mimetype": "text/x-python",
   "name": "python",
   "nbconvert_exporter": "python",
   "pygments_lexer": "ipython3",
   "version": "3.5.1"
  }
 },
 "nbformat": 4,
 "nbformat_minor": 0
}
