{
 "cells": [
  {
   "cell_type": "code",
   "execution_count": 10,
   "metadata": {
    "collapsed": false
   },
   "outputs": [
    {
     "name": "stdout",
     "output_type": "stream",
     "text": [
      "08:47:22\n",
      "(59999, 370)\n",
      "(59999,)\n",
      "08:47:24\n",
      "(16019,)\n",
      "0.503506803908\n",
      "08:47:24\n"
     ]
    }
   ],
   "source": [
    "# http://scikit-learn.org/stable/modules/sgd.html\n",
    "\n",
    "import pandas as pd\n",
    "\n",
    "from time import gmtime, strftime\n",
    "\n",
    "print(strftime(\"%H:%M:%S\", gmtime()))\n",
    "\n",
    "df = pd.read_csv('train.csv')\n",
    "\n",
    "# print(df.shape[0]) # rows\n",
    "# print(df.shape) # rows, columns\n",
    "# (76020, 371)\n",
    "\n",
    "train = df[1:60000]\n",
    "test = df[60001:76020]\n",
    "\n",
    "train_target = train.pop('TARGET')\n",
    "test_target = test.pop('TARGET')\n",
    "\n",
    "print(train.shape)\n",
    "print(train_target.shape)\n",
    "\n",
    "from sklearn.linear_model import SGDClassifier\n",
    "\n",
    "classifier = SGDClassifier(loss=\"modified_huber\", penalty=\"L1\")\n",
    "classifier.fit(train, train_target)  \n",
    "\n",
    "print(strftime(\"%H:%M:%S\", gmtime()))\n",
    "                  \n",
    "result = classifier.predict(test)\n",
    "\n",
    "print(result.shape)\n",
    "\n",
    "from sklearn.metrics import roc_auc_score\n",
    "\n",
    "print(roc_auc_score(test_target, result))\n",
    "\n",
    "# a few seconds, score = 0.503506803908\n",
    "         \n",
    "print(strftime(\"%H:%M:%S\", gmtime()))\n"
   ]
  },
  {
   "cell_type": "code",
   "execution_count": null,
   "metadata": {
    "collapsed": true
   },
   "outputs": [],
   "source": []
  }
 ],
 "metadata": {
  "kernelspec": {
   "display_name": "Python 3",
   "language": "python",
   "name": "python3"
  },
  "language_info": {
   "codemirror_mode": {
    "name": "ipython",
    "version": 3
   },
   "file_extension": ".py",
   "mimetype": "text/x-python",
   "name": "python",
   "nbconvert_exporter": "python",
   "pygments_lexer": "ipython3",
   "version": "3.5.1"
  }
 },
 "nbformat": 4,
 "nbformat_minor": 0
}
