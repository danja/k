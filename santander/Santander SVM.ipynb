{
 "cells": [
  {
   "cell_type": "code",
   "execution_count": 14,
   "metadata": {
    "collapsed": false,
    "scrolled": true
   },
   "outputs": [
    {
     "name": "stdout",
     "output_type": "stream",
     "text": [
      "(59999, 370)\n",
      "(59999,)\n"
     ]
    },
    {
     "data": {
      "text/plain": [
       "0.5"
      ]
     },
     "execution_count": 14,
     "metadata": {},
     "output_type": "execute_result"
    }
   ],
   "source": [
    "import pandas as pd\n",
    "\n",
    "df = pd.read_csv('train.csv')\n",
    "\n",
    "# print(df.shape[0]) # rows\n",
    "# print(df.shape) # rows, columns\n",
    "# (76020, 371)\n",
    "\n",
    "train = df[1:60000]\n",
    "test = df[60001:76020]\n",
    "\n",
    "train_target = train.pop('TARGET')\n",
    "test_target = test.pop('TARGET')\n",
    "\n",
    "print(train.shape)\n",
    "print(train_target.shape)\n",
    "\n",
    "from sklearn import svm\n",
    "\n",
    "classifier = svm.SVC()\n",
    "classifier.fit(train, train_target)  \n",
    "\n",
    "test1 = test[0:1]\n",
    "target1 = test_target[0:1]\n",
    "#print(target1)\n",
    "\n",
    "sr = classifier.predict(test)\n",
    "# print(sr)\n",
    "\n",
    "from sklearn.metrics import roc_auc_score\n",
    "\n",
    "roc_auc_score(test_target, sr)\n",
    "\n",
    "# after hours? output was 0.5"
   ]
  },
  {
   "cell_type": "code",
   "execution_count": null,
   "metadata": {
    "collapsed": true
   },
   "outputs": [],
   "source": []
  },
  {
   "cell_type": "code",
   "execution_count": null,
   "metadata": {
    "collapsed": true
   },
   "outputs": [],
   "source": []
  }
 ],
 "metadata": {
  "kernelspec": {
   "display_name": "Python 3",
   "language": "python",
   "name": "python3"
  },
  "language_info": {
   "codemirror_mode": {
    "name": "ipython",
    "version": 3
   },
   "file_extension": ".py",
   "mimetype": "text/x-python",
   "name": "python",
   "nbconvert_exporter": "python",
   "pygments_lexer": "ipython3",
   "version": "3.5.1"
  }
 },
 "nbformat": 4,
 "nbformat_minor": 0
}
