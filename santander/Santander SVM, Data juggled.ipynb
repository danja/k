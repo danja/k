{
 "cells": [
  {
   "cell_type": "markdown",
   "metadata": {
    "collapsed": false
   },
   "source": [
    "import pandas as pd\n",
    "\n",
    "from time import gmtime, strftime\n",
    "\n",
    "print(strftime(\"%H:%M:%S\", gmtime()))\n",
    "\n",
    "data = pd.read_csv('train.csv')\n",
    "\n",
    "# print(df.shape[0]) # rows\n",
    "# print(df.shape) # rows, columns\n",
    "# (76020, 371)\n",
    "\n",
    "data_true = data[data['TARGET'] == 1]\n",
    "data_false = data[data['TARGET'] != 1]\n",
    "\n",
    "print(data_true.shape)\n",
    "print(data_false.shape)\n",
    "\n",
    "l_true = data_true.shape[0]\n",
    "l_false = data_false.shape[0]\n",
    "\n",
    "print(l_true)\n",
    "print(l_false)\n",
    "\n",
    "train_true = data_true[0:int(.8 * l_true)]\n",
    "train_false = data_false[0:int(.8 * l_false)]\n",
    "\n",
    "test_true = data_true[int(.8 * l_true+1):l_true]\n",
    "test_false = data_false[int(.8 * l_false+1):l_false]\n",
    "\n",
    "print(train_true.shape)\n",
    "print(train_false.shape)\n",
    "\n",
    "train = pd.concat([train_true, train_false])\n",
    "test = pd.concat([test_true, test_false])\n",
    "\n",
    "print(train.shape)\n",
    "print(test.shape)\n",
    "\n",
    "train_target = train.pop('TARGET')\n",
    "test_target = test.pop('TARGET')\n",
    "\n",
    "print(train.shape)\n",
    "print(train_target.shape)\n",
    "\n",
    "print(strftime(\"%H:%M:%S\", gmtime()))\n",
    "\n",
    "from sklearn import svm\n",
    "\n",
    "classifier = svm.SVC()\n",
    "classifier.fit(train, train_target)  \n",
    "\n",
    "test1 = test[0:1]\n",
    "target1 = test_target[0:1]\n",
    "#print(target1)\n",
    "\n",
    "sr = classifier.predict(test)\n",
    "\n",
    "print(strftime(\"%H:%M:%S\", gmtime()))\n",
    "\n",
    "from sklearn.metrics import roc_auc_score\n",
    "\n",
    "print(roc_auc_score(test_target, sr))\n",
    "\n",
    "print(strftime(\"%H:%M:%S\", gmtime()))\n",
    "\n",
    "\n"
   ]
  },
  {
   "cell_type": "raw",
   "metadata": {
    "collapsed": true
   },
   "source": [
    "09:34:52\n",
    "(3008, 371)\n",
    "(73012, 371)\n",
    "3008\n",
    "73012\n",
    "(2406, 371)\n",
    "(58409, 371)\n",
    "(60815, 371)\n",
    "(15203, 371)\n",
    "(60815, 370)\n",
    "(60815,)\n",
    "09:35:05\n",
    "13:01:34\n",
    "0.499931516231\n",
    "13:01:34"
   ]
  }
 ],
 "metadata": {
  "kernelspec": {
   "display_name": "Python 3",
   "language": "python",
   "name": "python3"
  },
  "language_info": {
   "codemirror_mode": {
    "name": "ipython",
    "version": 3
   },
   "file_extension": ".py",
   "mimetype": "text/x-python",
   "name": "python",
   "nbconvert_exporter": "python",
   "pygments_lexer": "ipython3",
   "version": "3.5.1"
  }
 },
 "nbformat": 4,
 "nbformat_minor": 0
}
