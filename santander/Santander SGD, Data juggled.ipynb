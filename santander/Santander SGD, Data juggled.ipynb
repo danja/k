{
 "cells": [
  {
   "cell_type": "code",
   "execution_count": 1,
   "metadata": {
    "collapsed": false
   },
   "outputs": [
    {
     "name": "stdout",
     "output_type": "stream",
     "text": [
      "10:36:29\n",
      "(3008, 371)\n",
      "(73012, 371)\n",
      "3008\n",
      "73012\n",
      "(2406, 371)\n",
      "(58409, 371)\n",
      "(60815, 371)\n",
      "(15203, 371)\n",
      "(60815, 370)\n",
      "(60815,)\n",
      "10:36:32\n",
      "10:36:33\n",
      "0.503690488915\n",
      "10:36:33\n"
     ]
    }
   ],
   "source": [
    "import pandas as pd\n",
    "from time import gmtime, strftime\n",
    "\n",
    "import tensorflow.contrib.learn as skflow\n",
    "from sklearn import datasets, metrics\n",
    "\n",
    "print(strftime(\"%H:%M:%S\", gmtime()))\n",
    "\n",
    "data = pd.read_csv('train.csv')\n",
    "\n",
    "# print(df.shape[0]) # rows\n",
    "# print(df.shape) # rows, columns\n",
    "# (76020, 371)\n",
    "\n",
    "data_true = data[data['TARGET'] == 1]\n",
    "data_false = data[data['TARGET'] != 1]\n",
    "\n",
    "print(data_true.shape)\n",
    "print(data_false.shape)\n",
    "\n",
    "l_true = data_true.shape[0]\n",
    "l_false = data_false.shape[0]\n",
    "\n",
    "print(l_true)\n",
    "print(l_false)\n",
    "\n",
    "train_true = data_true[0:int(.8 * l_true)]\n",
    "train_false = data_false[0:int(.8 * l_false)]\n",
    "\n",
    "test_true = data_true[int(.8 * l_true+1):l_true]\n",
    "test_false = data_false[int(.8 * l_false+1):l_false]\n",
    "\n",
    "print(train_true.shape)\n",
    "print(train_false.shape)\n",
    "\n",
    "train = pd.concat([train_true, train_false])\n",
    "test = pd.concat([test_true, test_false])\n",
    "\n",
    "print(train.shape)\n",
    "print(test.shape)\n",
    "\n",
    "train_target = train.pop('TARGET')\n",
    "test_target = test.pop('TARGET')\n",
    "\n",
    "print(train.shape)\n",
    "print(train_target.shape)\n",
    "\n",
    "print(strftime(\"%H:%M:%S\", gmtime()))\n",
    "\n",
    "from sklearn.linear_model import SGDClassifier\n",
    "\n",
    "########################\n",
    "\n",
    "classifier = SGDClassifier(loss=\"modified_huber\", penalty=\"L1\")\n",
    "classifier.fit(train, train_target)  \n",
    "\n",
    "sr = classifier.predict(test)\n",
    "\n",
    "print(strftime(\"%H:%M:%S\", gmtime()))\n",
    "\n",
    "from sklearn.metrics import roc_auc_score\n",
    "\n",
    "print(roc_auc_score(test_target, sr))\n",
    "\n",
    "print(strftime(\"%H:%M:%S\", gmtime()))\n",
    "\n",
    "\n"
   ]
  },
  {
   "cell_type": "code",
   "execution_count": null,
   "metadata": {
    "collapsed": true
   },
   "outputs": [],
   "source": []
  },
  {
   "cell_type": "raw",
   "metadata": {},
   "source": [
    "10:36:29\n",
    "(3008, 371)\n",
    "(73012, 371)\n",
    "3008\n",
    "73012\n",
    "(2406, 371)\n",
    "(58409, 371)\n",
    "(60815, 371)\n",
    "(15203, 371)\n",
    "(60815, 370)\n",
    "(60815,)\n",
    "10:36:32\n",
    "10:36:33\n",
    "0.503690488915\n",
    "10:36:33"
   ]
  }
 ],
 "metadata": {
  "kernelspec": {
   "display_name": "Python 3",
   "language": "python",
   "name": "python3"
  },
  "language_info": {
   "codemirror_mode": {
    "name": "ipython",
    "version": 3
   },
   "file_extension": ".py",
   "mimetype": "text/x-python",
   "name": "python",
   "nbconvert_exporter": "python",
   "pygments_lexer": "ipython3",
   "version": "3.5.1"
  }
 },
 "nbformat": 4,
 "nbformat_minor": 0
}
